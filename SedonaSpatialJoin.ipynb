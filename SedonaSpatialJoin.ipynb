{
 "cells": [
  {
   "cell_type": "markdown",
   "id": "a65a2c5e-8b86-457b-b26a-7344c2b60c5f",
   "metadata": {},
   "source": [
    "- configuring WherobotsDB to access S3 buckets\n",
    "- loading Shapefile data to Spatial DataFrames\n",
    "- performing a spatial join using SQL\n",
    "- visualizing geospatial data\n",
    "- writing results as GeoParquet"
   ]
  },
  {
   "cell_type": "code",
   "execution_count": 1,
   "id": "3158738d-6480-40df-bea3-c295b2338b03",
   "metadata": {
    "execution": {
     "iopub.execute_input": "2025-03-21T14:14:58.862710Z",
     "iopub.status.busy": "2025-03-21T14:14:58.862456Z",
     "iopub.status.idle": "2025-03-21T14:14:59.317007Z",
     "shell.execute_reply": "2025-03-21T14:14:59.316261Z",
     "shell.execute_reply.started": "2025-03-21T14:14:58.862690Z"
    }
   },
   "outputs": [],
   "source": [
    "from sedona.spark import *\n",
    "from pyspark.sql.functions import desc\n",
    "import os"
   ]
  },
  {
   "cell_type": "code",
   "execution_count": 2,
   "id": "d751da91-6447-4cea-9c55-5df2e27eee40",
   "metadata": {
    "execution": {
     "iopub.execute_input": "2025-03-21T14:15:14.737020Z",
     "iopub.status.busy": "2025-03-21T14:15:14.736718Z",
     "iopub.status.idle": "2025-03-21T14:15:37.642059Z",
     "shell.execute_reply": "2025-03-21T14:15:37.641301Z",
     "shell.execute_reply.started": "2025-03-21T14:15:14.737003Z"
    }
   },
   "outputs": [
    {
     "name": "stderr",
     "output_type": "stream",
     "text": [
      "Setting default log level to \"WARN\".\n",
      "To adjust logging level use sc.setLogLevel(newLevel). For SparkR, use setLogLevel(newLevel).\n",
      "                                                                                \r"
     ]
    }
   ],
   "source": [
    "config = SedonaContext.builder().appName('sedona-example-python')\\\n",
    "    .config('spark.hadoop.fs.s3a.bucket.wherobots-examples.aws.credentials.provider','org.apache.hadoop.fs.s3a.AnonymousAWSCredentialsProvider')\\\n",
    "    .getOrCreate()\n",
    "sedona = SedonaContext.create(config)\n",
    "sc = sedona.sparkContext"
   ]
  },
  {
   "cell_type": "code",
   "execution_count": 3,
   "id": "e9d89a81-5fc0-454e-84a5-a8e86a0de489",
   "metadata": {
    "execution": {
     "iopub.execute_input": "2025-03-21T14:15:43.455867Z",
     "iopub.status.busy": "2025-03-21T14:15:43.455283Z",
     "iopub.status.idle": "2025-03-21T14:15:45.338253Z",
     "shell.execute_reply": "2025-03-21T14:15:45.336946Z",
     "shell.execute_reply.started": "2025-03-21T14:15:43.455838Z"
    }
   },
   "outputs": [
    {
     "name": "stderr",
     "output_type": "stream",
     "text": [
      "[Stage 3:>                                                          (0 + 1) / 1]\r"
     ]
    },
    {
     "name": "stdout",
     "output_type": "stream",
     "text": [
      "root\n",
      " |-- geometry: geometry (nullable = true)\n",
      " |-- featurecla: string (nullable = true)\n",
      " |-- scalerank: string (nullable = true)\n",
      " |-- LABELRANK: string (nullable = true)\n",
      " |-- SOVEREIGNT: string (nullable = true)\n",
      " |-- SOV_A3: string (nullable = true)\n",
      " |-- ADM0_DIF: string (nullable = true)\n",
      " |-- LEVEL: string (nullable = true)\n",
      " |-- TYPE: string (nullable = true)\n",
      " |-- ADMIN: string (nullable = true)\n",
      " |-- ADM0_A3: string (nullable = true)\n",
      " |-- GEOU_DIF: string (nullable = true)\n",
      " |-- GEOUNIT: string (nullable = true)\n",
      " |-- GU_A3: string (nullable = true)\n",
      " |-- SU_DIF: string (nullable = true)\n",
      " |-- SUBUNIT: string (nullable = true)\n",
      " |-- SU_A3: string (nullable = true)\n",
      " |-- BRK_DIFF: string (nullable = true)\n",
      " |-- NAME: string (nullable = true)\n",
      " |-- NAME_LONG: string (nullable = true)\n",
      " |-- BRK_A3: string (nullable = true)\n",
      " |-- BRK_NAME: string (nullable = true)\n",
      " |-- BRK_GROUP: string (nullable = true)\n",
      " |-- ABBREV: string (nullable = true)\n",
      " |-- POSTAL: string (nullable = true)\n",
      " |-- FORMAL_EN: string (nullable = true)\n",
      " |-- FORMAL_FR: string (nullable = true)\n",
      " |-- NAME_CIAWF: string (nullable = true)\n",
      " |-- NOTE_ADM0: string (nullable = true)\n",
      " |-- NOTE_BRK: string (nullable = true)\n",
      " |-- NAME_SORT: string (nullable = true)\n",
      " |-- NAME_ALT: string (nullable = true)\n",
      " |-- MAPCOLOR7: string (nullable = true)\n",
      " |-- MAPCOLOR8: string (nullable = true)\n",
      " |-- MAPCOLOR9: string (nullable = true)\n",
      " |-- MAPCOLOR13: string (nullable = true)\n",
      " |-- POP_EST: string (nullable = true)\n",
      " |-- POP_RANK: string (nullable = true)\n",
      " |-- GDP_MD_EST: string (nullable = true)\n",
      " |-- POP_YEAR: string (nullable = true)\n",
      " |-- LASTCENSUS: string (nullable = true)\n",
      " |-- GDP_YEAR: string (nullable = true)\n",
      " |-- ECONOMY: string (nullable = true)\n",
      " |-- INCOME_GRP: string (nullable = true)\n",
      " |-- WIKIPEDIA: string (nullable = true)\n",
      " |-- FIPS_10_: string (nullable = true)\n",
      " |-- ISO_A2: string (nullable = true)\n",
      " |-- ISO_A3: string (nullable = true)\n",
      " |-- ISO_A3_EH: string (nullable = true)\n",
      " |-- ISO_N3: string (nullable = true)\n",
      " |-- UN_A3: string (nullable = true)\n",
      " |-- WB_A2: string (nullable = true)\n",
      " |-- WB_A3: string (nullable = true)\n",
      " |-- WOE_ID: string (nullable = true)\n",
      " |-- WOE_ID_EH: string (nullable = true)\n",
      " |-- WOE_NOTE: string (nullable = true)\n",
      " |-- ADM0_A3_IS: string (nullable = true)\n",
      " |-- ADM0_A3_US: string (nullable = true)\n",
      " |-- ADM0_A3_UN: string (nullable = true)\n",
      " |-- ADM0_A3_WB: string (nullable = true)\n",
      " |-- CONTINENT: string (nullable = true)\n",
      " |-- REGION_UN: string (nullable = true)\n",
      " |-- SUBREGION: string (nullable = true)\n",
      " |-- REGION_WB: string (nullable = true)\n",
      " |-- NAME_LEN: string (nullable = true)\n",
      " |-- LONG_LEN: string (nullable = true)\n",
      " |-- ABBREV_LEN: string (nullable = true)\n",
      " |-- TINY: string (nullable = true)\n",
      " |-- HOMEPART: string (nullable = true)\n",
      " |-- MIN_ZOOM: string (nullable = true)\n",
      " |-- MIN_LABEL: string (nullable = true)\n",
      " |-- MAX_LABEL: string (nullable = true)\n",
      " |-- NE_ID: string (nullable = true)\n",
      " |-- WIKIDATAID: string (nullable = true)\n",
      " |-- NAME_AR: string (nullable = true)\n",
      " |-- NAME_BN: string (nullable = true)\n",
      " |-- NAME_DE: string (nullable = true)\n",
      " |-- NAME_EN: string (nullable = true)\n",
      " |-- NAME_ES: string (nullable = true)\n",
      " |-- NAME_FR: string (nullable = true)\n",
      " |-- NAME_EL: string (nullable = true)\n",
      " |-- NAME_HI: string (nullable = true)\n",
      " |-- NAME_HU: string (nullable = true)\n",
      " |-- NAME_ID: string (nullable = true)\n",
      " |-- NAME_IT: string (nullable = true)\n",
      " |-- NAME_JA: string (nullable = true)\n",
      " |-- NAME_KO: string (nullable = true)\n",
      " |-- NAME_NL: string (nullable = true)\n",
      " |-- NAME_PL: string (nullable = true)\n",
      " |-- NAME_PT: string (nullable = true)\n",
      " |-- NAME_RU: string (nullable = true)\n",
      " |-- NAME_SV: string (nullable = true)\n",
      " |-- NAME_TR: string (nullable = true)\n",
      " |-- NAME_VI: string (nullable = true)\n",
      " |-- NAME_ZH: string (nullable = true)\n",
      "\n"
     ]
    },
    {
     "name": "stderr",
     "output_type": "stream",
     "text": [
      "                                                                                \r"
     ]
    }
   ],
   "source": [
    "# Read the countries shapefiles from S3\n",
    "s3BucketName = 'wherobots-examples'\n",
    "countries = ShapefileReader.readToGeometryRDD(sc, 's3://%s/data/ne_50m_admin_0_countries_lakes/' % s3BucketName)\n",
    "# Convert the Spatial RDD to a Spatial DataFrame using the Adapter\n",
    "countries_df = Adapter.toDf(countries, sedona)\n",
    "countries_df.createOrReplaceTempView(\"country\")\n",
    "countries_df.printSchema()"
   ]
  },
  {
   "cell_type": "code",
   "execution_count": 4,
   "id": "aa6b800f-b364-4d5c-98ca-82dad8293019",
   "metadata": {
    "execution": {
     "iopub.execute_input": "2025-03-21T14:17:24.321699Z",
     "iopub.status.busy": "2025-03-21T14:17:24.321445Z",
     "iopub.status.idle": "2025-03-21T14:17:26.320922Z",
     "shell.execute_reply": "2025-03-21T14:17:26.320331Z",
     "shell.execute_reply.started": "2025-03-21T14:17:24.321681Z"
    }
   },
   "outputs": [
    {
     "name": "stderr",
     "output_type": "stream",
     "text": [
      "[Stage 5:>                                                          (0 + 1) / 1]\r"
     ]
    },
    {
     "name": "stdout",
     "output_type": "stream",
     "text": [
      "Liczba wierszy w countries_df: 241\n"
     ]
    },
    {
     "name": "stderr",
     "output_type": "stream",
     "text": [
      "                                                                                \r"
     ]
    }
   ],
   "source": [
    "num_rows = countries_df.count()\n",
    "print(f\"Liczba wierszy w countries_df: {num_rows}\")"
   ]
  },
  {
   "cell_type": "code",
   "execution_count": 5,
   "id": "26d8ddc6-66bc-465e-90ba-b39ebb77fcb1",
   "metadata": {
    "execution": {
     "iopub.execute_input": "2025-03-21T14:18:27.137498Z",
     "iopub.status.busy": "2025-03-21T14:18:27.137276Z",
     "iopub.status.idle": "2025-03-21T14:18:28.609294Z",
     "shell.execute_reply": "2025-03-21T14:18:28.608905Z",
     "shell.execute_reply.started": "2025-03-21T14:18:27.137480Z"
    }
   },
   "outputs": [
    {
     "name": "stderr",
     "output_type": "stream",
     "text": [
      "[Stage 8:>                                                          (0 + 1) / 1]\r"
     ]
    },
    {
     "name": "stdout",
     "output_type": "stream",
     "text": [
      "root\n",
      " |-- geometry: geometry (nullable = true)\n",
      " |-- scalerank: string (nullable = true)\n",
      " |-- featurecla: string (nullable = true)\n",
      " |-- type: string (nullable = true)\n",
      " |-- name: string (nullable = true)\n",
      " |-- abbrev: string (nullable = true)\n",
      " |-- location: string (nullable = true)\n",
      " |-- gps_code: string (nullable = true)\n",
      " |-- iata_code: string (nullable = true)\n",
      " |-- wikipedia: string (nullable = true)\n",
      " |-- natlscale: string (nullable = true)\n",
      "\n"
     ]
    },
    {
     "name": "stderr",
     "output_type": "stream",
     "text": [
      "                                                                                \r"
     ]
    }
   ],
   "source": [
    "# Read the airports shapefiles from S3\n",
    "airports = ShapefileReader.readToGeometryRDD(sc, 's3://%s/data/ne_50m_airports/' % s3BucketName)\n",
    "# Convert the Spatial RDD to a Spatial DataFrame using the Adapter\n",
    "airports_df = Adapter.toDf(airports, sedona)\n",
    "airports_df.createOrReplaceTempView(\"airport\")\n",
    "airports_df.printSchema()"
   ]
  },
  {
   "cell_type": "code",
   "execution_count": 6,
   "id": "6ec2ea23-e5bd-4de3-84ca-f537b60c56a3",
   "metadata": {
    "execution": {
     "iopub.execute_input": "2025-03-21T14:19:15.538513Z",
     "iopub.status.busy": "2025-03-21T14:19:15.538241Z",
     "iopub.status.idle": "2025-03-21T14:19:17.450903Z",
     "shell.execute_reply": "2025-03-21T14:19:17.450314Z",
     "shell.execute_reply.started": "2025-03-21T14:19:15.538494Z"
    }
   },
   "outputs": [
    {
     "name": "stderr",
     "output_type": "stream",
     "text": [
      "[Stage 10:>                                                         (0 + 1) / 1]\r"
     ]
    },
    {
     "name": "stdout",
     "output_type": "stream",
     "text": [
      "Liczba wierszy w airports_df: 281\n"
     ]
    },
    {
     "name": "stderr",
     "output_type": "stream",
     "text": [
      "                                                                                \r"
     ]
    }
   ],
   "source": [
    "num_rows = airports_df.count()\n",
    "print(f\"Liczba wierszy w airports_df: {num_rows}\")"
   ]
  },
  {
   "cell_type": "code",
   "execution_count": 7,
   "id": "c87c5c3a-492d-4f75-8736-4e593a2a3fa2",
   "metadata": {
    "execution": {
     "iopub.execute_input": "2025-03-21T14:20:59.775709Z",
     "iopub.status.busy": "2025-03-21T14:20:59.775354Z",
     "iopub.status.idle": "2025-03-21T14:21:04.375770Z",
     "shell.execute_reply": "2025-03-21T14:21:04.374685Z",
     "shell.execute_reply.started": "2025-03-21T14:20:59.775680Z"
    }
   },
   "outputs": [
    {
     "name": "stderr",
     "output_type": "stream",
     "text": [
      "                                                                                \r"
     ]
    },
    {
     "name": "stdout",
     "output_type": "stream",
     "text": [
      "+--------------------+--------------------+-----+\n",
      "|             NAME_EN|        country_geom|count|\n",
      "+--------------------+--------------------+-----+\n",
      "|United States of ...|MULTIPOLYGON (((-...|   35|\n",
      "|              Canada|MULTIPOLYGON (((-...|   15|\n",
      "|              Brazil|MULTIPOLYGON (((-...|   12|\n",
      "|              Mexico|MULTIPOLYGON (((-...|   12|\n",
      "|People's Republic...|MULTIPOLYGON (((1...|    7|\n",
      "|               India|MULTIPOLYGON (((6...|    7|\n",
      "|             Germany|MULTIPOLYGON (((9...|    5|\n",
      "|               Chile|MULTIPOLYGON (((-...|    5|\n",
      "|              Russia|MULTIPOLYGON (((1...|    5|\n",
      "|           Australia|MULTIPOLYGON (((1...|    5|\n",
      "|            Colombia|MULTIPOLYGON (((-...|    4|\n",
      "|        South Africa|MULTIPOLYGON (((2...|    4|\n",
      "|                Iran|MULTIPOLYGON (((5...|    4|\n",
      "|           Argentina|MULTIPOLYGON (((-...|    3|\n",
      "|             Nigeria|MULTIPOLYGON (((7...|    3|\n",
      "|            Pakistan|POLYGON ((76.7668...|    3|\n",
      "|               Egypt|POLYGON ((36.8713...|    3|\n",
      "|               Japan|MULTIPOLYGON (((1...|    3|\n",
      "|           Venezuela|MULTIPOLYGON (((-...|    3|\n",
      "|             Vietnam|MULTIPOLYGON (((1...|    2|\n",
      "+--------------------+--------------------+-----+\n",
      "only showing top 20 rows\n",
      "\n"
     ]
    }
   ],
   "source": [
    "# Run a spatial join query to find airports in each country\n",
    "result = sedona.sql('SELECT c.geometry as country_geom, c.NAME_EN, a.geometry as airport_geom, a.name FROM country c, airport a WHERE ST_Contains(c.geometry, a.geometry)')\n",
    "# Aggregate the results to find the number of airports in each country\n",
    "aggregateResult = result.groupBy('NAME_EN', 'country_geom').count()\n",
    "aggregateResult.orderBy(desc('count')).show()"
   ]
  },
  {
   "cell_type": "code",
   "execution_count": 8,
   "id": "73ba1111-4bf9-4d92-a6b0-f20a2221b77d",
   "metadata": {
    "execution": {
     "iopub.execute_input": "2025-03-21T14:22:24.495917Z",
     "iopub.status.busy": "2025-03-21T14:22:24.495681Z",
     "iopub.status.idle": "2025-03-21T14:22:28.611365Z",
     "shell.execute_reply": "2025-03-21T14:22:28.610649Z",
     "shell.execute_reply.started": "2025-03-21T14:22:24.495893Z"
    }
   },
   "outputs": [
    {
     "name": "stderr",
     "output_type": "stream",
     "text": [
      "                                                                                \r"
     ]
    },
    {
     "name": "stdout",
     "output_type": "stream",
     "text": [
      "+--------------------+--------+--------------------+------------+\n",
      "|        country_geom| NAME_EN|        airport_geom|        name|\n",
      "+--------------------+--------+--------------------+------------+\n",
      "|MULTIPOLYGON (((3...|Zimbabwe|POINT (28.6225520...|    Bulawayo|\n",
      "|MULTIPOLYGON (((3...|Zimbabwe|POINT (31.1014 -1...|Harare Int'l|\n",
      "|MULTIPOLYGON (((3...|  Zambia|POINT (28.4455443...|Lusaka Int'l|\n",
      "|MULTIPOLYGON (((5...|   Yemen|POINT (45.030602 ...|  Aden Int'l|\n",
      "+--------------------+--------+--------------------+------------+\n",
      "only showing top 4 rows\n",
      "\n"
     ]
    },
    {
     "name": "stderr",
     "output_type": "stream",
     "text": [
      "                                                                                \r"
     ]
    }
   ],
   "source": [
    "result.show(4)"
   ]
  },
  {
   "cell_type": "code",
   "execution_count": 9,
   "id": "ae63da62-ceb0-4aa1-b54d-1bbb135702ca",
   "metadata": {
    "execution": {
     "iopub.execute_input": "2025-03-21T14:24:49.696185Z",
     "iopub.status.busy": "2025-03-21T14:24:49.695506Z",
     "iopub.status.idle": "2025-03-21T14:24:53.105819Z",
     "shell.execute_reply": "2025-03-21T14:24:53.105470Z",
     "shell.execute_reply.started": "2025-03-21T14:24:49.696163Z"
    }
   },
   "outputs": [
    {
     "name": "stdout",
     "output_type": "stream",
     "text": [
      "User Guide: https://docs.kepler.gl/docs/keplergl-jupyter\n"
     ]
    },
    {
     "name": "stderr",
     "output_type": "stream",
     "text": [
      "                                                                                \r"
     ]
    },
    {
     "data": {
      "application/vnd.jupyter.widget-view+json": {
       "model_id": "2549173de6114c4cb2cadc52f1f7155d",
       "version_major": 2,
       "version_minor": 0
      },
      "text/plain": [
       "KeplerGl(data={'Airport_Count': {'index': [0, 1, 2, 3, 4, 5, 6, 7, 8, 9, 10, 11, 12, 13, 14, 15, 16, 17, 18, 1…"
      ]
     },
     "execution_count": 9,
     "metadata": {},
     "output_type": "execute_result"
    }
   ],
   "source": [
    "# Visualize results using SedonaKepler\n",
    "result_map = SedonaKepler.create_map(df=aggregateResult, name='Airport_Count')\n",
    "result_map"
   ]
  },
  {
   "cell_type": "code",
   "execution_count": 10,
   "id": "0d52c2fb-7a8b-465a-9518-b1bac7d1a72f",
   "metadata": {
    "execution": {
     "iopub.execute_input": "2025-03-21T14:26:36.736955Z",
     "iopub.status.busy": "2025-03-21T14:26:36.736733Z",
     "iopub.status.idle": "2025-03-21T14:26:42.442842Z",
     "shell.execute_reply": "2025-03-21T14:26:42.442172Z",
     "shell.execute_reply.started": "2025-03-21T14:26:36.736939Z"
    }
   },
   "outputs": [
    {
     "name": "stderr",
     "output_type": "stream",
     "text": [
      "                                                                                \r"
     ]
    }
   ],
   "source": [
    "# Write the results to a GeoParquet file\n",
    "aggregateResult.write.format('geoparquet').mode('overwrite').save(os.getenv(\"USER_S3_PATH\") + 'airport_country.parquet')"
   ]
  },
  {
   "cell_type": "code",
   "execution_count": null,
   "id": "799176c2-e2db-4fa9-8f1f-e1f24e9033b9",
   "metadata": {},
   "outputs": [],
   "source": []
  }
 ],
 "metadata": {
  "kernelspec": {
   "display_name": "Python 3 (ipykernel)",
   "language": "python",
   "name": "python3"
  },
  "language_info": {
   "codemirror_mode": {
    "name": "ipython",
    "version": 3
   },
   "file_extension": ".py",
   "mimetype": "text/x-python",
   "name": "python",
   "nbconvert_exporter": "python",
   "pygments_lexer": "ipython3",
   "version": "3.11.11"
  }
 },
 "nbformat": 4,
 "nbformat_minor": 5
}
